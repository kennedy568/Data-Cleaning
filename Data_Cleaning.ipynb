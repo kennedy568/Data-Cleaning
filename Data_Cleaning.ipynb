{
  "nbformat": 4,
  "nbformat_minor": 0,
  "metadata": {
    "colab": {
      "name": " Data Cleaning",
      "provenance": [],
      "collapsed_sections": [
        "f0LiYra_ZGrf",
        "zMDkx0IpxCCR",
        "Y7Dgv6QeG-tw",
        "zxpZyP9yxlzl",
        "PQ8DPOj4HGtQ",
        "vPXKeupMxvT3",
        "KSSnxqGcH4pc",
        "Wus-RyPhx2k2",
        "vvxGZOoWXnmy",
        "o59W2bFhx_8k",
        "1FQHRHC_QMJu"
      ],
      "toc_visible": true,
      "include_colab_link": true
    },
    "kernelspec": {
      "name": "python3",
      "display_name": "Python 3"
    }
  },
  "cells": [
    {
      "cell_type": "markdown",
      "metadata": {
        "id": "view-in-github",
        "colab_type": "text"
      },
      "source": [
        "<a href=\"https://colab.research.google.com/github/kennedy568/Data-Cleaning/blob/main/Data_Cleaning.ipynb\" target=\"_parent\"><img src=\"https://colab.research.google.com/assets/colab-badge.svg\" alt=\"Open In Colab\"/></a>"
      ]
    },
    {
      "cell_type": "markdown",
      "metadata": {
        "id": "_-nl74pjw6Hy"
      },
      "source": [
        "# Python Data Cleaning"
      ]
    },
    {
      "cell_type": "markdown",
      "metadata": {
        "id": "f0LiYra_ZGrf"
      },
      "source": [
        "## 1.0 Importing our Libraries"
      ]
    },
    {
      "cell_type": "code",
      "metadata": {
        "id": "UtnqOM71DRhS"
      },
      "source": [
        "# Importing the Pandas Library\n",
        "import pandas as pd\n",
        "\n",
        "# Importing the Numpy Library\n",
        "import numpy as np"
      ],
      "execution_count": 1,
      "outputs": []
    },
    {
      "cell_type": "markdown",
      "metadata": {
        "id": "zMDkx0IpxCCR"
      },
      "source": [
        "## 1.1 Validity"
      ]
    },
    {
      "cell_type": "code",
      "metadata": {
        "id": "O2gayc6ew2qT",
        "colab": {
          "base_uri": "https://localhost:8080/",
          "height": 436
        },
        "outputId": "6daa089d-f8c3-4aa9-a998-657be815f375"
      },
      "source": [
        "# Example 1: Irrelevant Data\n",
        "# Irrelevant data are those that are not actually needed, and don’t fit under \n",
        "# the context of the problem we’re trying to solve. \n",
        "# For example, we will drop the Team and Weight columns from the dataset below\n",
        "# since we will not need them in our analysis\n",
        "# Making the dataframe from csv file \n",
        "data_df = pd.read_csv(\"http://bit.ly/MSDS-NBADataset\", index_col =\"Name\" ) \n",
        "data_df"
      ],
      "execution_count": 2,
      "outputs": [
        {
          "output_type": "execute_result",
          "data": {
            "text/html": [
              "<div>\n",
              "<style scoped>\n",
              "    .dataframe tbody tr th:only-of-type {\n",
              "        vertical-align: middle;\n",
              "    }\n",
              "\n",
              "    .dataframe tbody tr th {\n",
              "        vertical-align: top;\n",
              "    }\n",
              "\n",
              "    .dataframe thead th {\n",
              "        text-align: right;\n",
              "    }\n",
              "</style>\n",
              "<table border=\"1\" class=\"dataframe\">\n",
              "  <thead>\n",
              "    <tr style=\"text-align: right;\">\n",
              "      <th></th>\n",
              "      <th>Team</th>\n",
              "      <th>Number</th>\n",
              "      <th>Position</th>\n",
              "      <th>Age</th>\n",
              "      <th>Height</th>\n",
              "      <th>Weight</th>\n",
              "      <th>College</th>\n",
              "      <th>Salary</th>\n",
              "    </tr>\n",
              "    <tr>\n",
              "      <th>Name</th>\n",
              "      <th></th>\n",
              "      <th></th>\n",
              "      <th></th>\n",
              "      <th></th>\n",
              "      <th></th>\n",
              "      <th></th>\n",
              "      <th></th>\n",
              "      <th></th>\n",
              "    </tr>\n",
              "  </thead>\n",
              "  <tbody>\n",
              "    <tr>\n",
              "      <th>Avery Bradley</th>\n",
              "      <td>Boston Celtics</td>\n",
              "      <td>0.0</td>\n",
              "      <td>PG</td>\n",
              "      <td>25.0</td>\n",
              "      <td>6-2</td>\n",
              "      <td>180.0</td>\n",
              "      <td>Texas</td>\n",
              "      <td>7730337.0</td>\n",
              "    </tr>\n",
              "    <tr>\n",
              "      <th>Jae Crowder</th>\n",
              "      <td>Boston Celtics</td>\n",
              "      <td>99.0</td>\n",
              "      <td>SF</td>\n",
              "      <td>25.0</td>\n",
              "      <td>6-6</td>\n",
              "      <td>235.0</td>\n",
              "      <td>Marquette</td>\n",
              "      <td>6796117.0</td>\n",
              "    </tr>\n",
              "    <tr>\n",
              "      <th>John Holland</th>\n",
              "      <td>Boston Celtics</td>\n",
              "      <td>30.0</td>\n",
              "      <td>SG</td>\n",
              "      <td>27.0</td>\n",
              "      <td>6-5</td>\n",
              "      <td>205.0</td>\n",
              "      <td>Boston University</td>\n",
              "      <td>NaN</td>\n",
              "    </tr>\n",
              "    <tr>\n",
              "      <th>R.J. Hunter</th>\n",
              "      <td>Boston Celtics</td>\n",
              "      <td>28.0</td>\n",
              "      <td>SG</td>\n",
              "      <td>22.0</td>\n",
              "      <td>6-5</td>\n",
              "      <td>185.0</td>\n",
              "      <td>Georgia State</td>\n",
              "      <td>1148640.0</td>\n",
              "    </tr>\n",
              "    <tr>\n",
              "      <th>Jonas Jerebko</th>\n",
              "      <td>Boston Celtics</td>\n",
              "      <td>8.0</td>\n",
              "      <td>PF</td>\n",
              "      <td>29.0</td>\n",
              "      <td>6-10</td>\n",
              "      <td>231.0</td>\n",
              "      <td>NaN</td>\n",
              "      <td>5000000.0</td>\n",
              "    </tr>\n",
              "    <tr>\n",
              "      <th>...</th>\n",
              "      <td>...</td>\n",
              "      <td>...</td>\n",
              "      <td>...</td>\n",
              "      <td>...</td>\n",
              "      <td>...</td>\n",
              "      <td>...</td>\n",
              "      <td>...</td>\n",
              "      <td>...</td>\n",
              "    </tr>\n",
              "    <tr>\n",
              "      <th>Shelvin Mack</th>\n",
              "      <td>Utah Jazz</td>\n",
              "      <td>8.0</td>\n",
              "      <td>PG</td>\n",
              "      <td>26.0</td>\n",
              "      <td>6-3</td>\n",
              "      <td>203.0</td>\n",
              "      <td>Butler</td>\n",
              "      <td>2433333.0</td>\n",
              "    </tr>\n",
              "    <tr>\n",
              "      <th>Raul Neto</th>\n",
              "      <td>Utah Jazz</td>\n",
              "      <td>25.0</td>\n",
              "      <td>PG</td>\n",
              "      <td>24.0</td>\n",
              "      <td>6-1</td>\n",
              "      <td>179.0</td>\n",
              "      <td>NaN</td>\n",
              "      <td>900000.0</td>\n",
              "    </tr>\n",
              "    <tr>\n",
              "      <th>Tibor Pleiss</th>\n",
              "      <td>Utah Jazz</td>\n",
              "      <td>21.0</td>\n",
              "      <td>C</td>\n",
              "      <td>26.0</td>\n",
              "      <td>7-3</td>\n",
              "      <td>256.0</td>\n",
              "      <td>NaN</td>\n",
              "      <td>2900000.0</td>\n",
              "    </tr>\n",
              "    <tr>\n",
              "      <th>Jeff Withey</th>\n",
              "      <td>Utah Jazz</td>\n",
              "      <td>24.0</td>\n",
              "      <td>C</td>\n",
              "      <td>26.0</td>\n",
              "      <td>7-0</td>\n",
              "      <td>231.0</td>\n",
              "      <td>Kansas</td>\n",
              "      <td>947276.0</td>\n",
              "    </tr>\n",
              "    <tr>\n",
              "      <th>NaN</th>\n",
              "      <td>NaN</td>\n",
              "      <td>NaN</td>\n",
              "      <td>NaN</td>\n",
              "      <td>NaN</td>\n",
              "      <td>NaN</td>\n",
              "      <td>NaN</td>\n",
              "      <td>NaN</td>\n",
              "      <td>NaN</td>\n",
              "    </tr>\n",
              "  </tbody>\n",
              "</table>\n",
              "<p>458 rows × 8 columns</p>\n",
              "</div>"
            ],
            "text/plain": [
              "                         Team  Number  ...            College     Salary\n",
              "Name                                   ...                              \n",
              "Avery Bradley  Boston Celtics     0.0  ...              Texas  7730337.0\n",
              "Jae Crowder    Boston Celtics    99.0  ...          Marquette  6796117.0\n",
              "John Holland   Boston Celtics    30.0  ...  Boston University        NaN\n",
              "R.J. Hunter    Boston Celtics    28.0  ...      Georgia State  1148640.0\n",
              "Jonas Jerebko  Boston Celtics     8.0  ...                NaN  5000000.0\n",
              "...                       ...     ...  ...                ...        ...\n",
              "Shelvin Mack        Utah Jazz     8.0  ...             Butler  2433333.0\n",
              "Raul Neto           Utah Jazz    25.0  ...                NaN   900000.0\n",
              "Tibor Pleiss        Utah Jazz    21.0  ...                NaN  2900000.0\n",
              "Jeff Withey         Utah Jazz    24.0  ...             Kansas   947276.0\n",
              "NaN                       NaN     NaN  ...                NaN        NaN\n",
              "\n",
              "[458 rows x 8 columns]"
            ]
          },
          "metadata": {
            "tags": []
          },
          "execution_count": 2
        }
      ]
    },
    {
      "cell_type": "code",
      "metadata": {
        "colab": {
          "base_uri": "https://localhost:8080/",
          "height": 436
        },
        "id": "tsV5GfNqLgkc",
        "outputId": "1ac11df2-8c0d-4427-c842-58651d1bc9e3"
      },
      "source": [
        "# Dropping the irrelevant columns i.e. Weight\n",
        "# Those values were dropped since axis was set equal to 1 and \n",
        "# the changes were made in the original data frame since inplace was True.\n",
        "data_df.drop([\"Weight\"], axis = 1, inplace = True) \n",
        "data_df"
      ],
      "execution_count": 3,
      "outputs": [
        {
          "output_type": "execute_result",
          "data": {
            "text/html": [
              "<div>\n",
              "<style scoped>\n",
              "    .dataframe tbody tr th:only-of-type {\n",
              "        vertical-align: middle;\n",
              "    }\n",
              "\n",
              "    .dataframe tbody tr th {\n",
              "        vertical-align: top;\n",
              "    }\n",
              "\n",
              "    .dataframe thead th {\n",
              "        text-align: right;\n",
              "    }\n",
              "</style>\n",
              "<table border=\"1\" class=\"dataframe\">\n",
              "  <thead>\n",
              "    <tr style=\"text-align: right;\">\n",
              "      <th></th>\n",
              "      <th>Team</th>\n",
              "      <th>Number</th>\n",
              "      <th>Position</th>\n",
              "      <th>Age</th>\n",
              "      <th>Height</th>\n",
              "      <th>College</th>\n",
              "      <th>Salary</th>\n",
              "    </tr>\n",
              "    <tr>\n",
              "      <th>Name</th>\n",
              "      <th></th>\n",
              "      <th></th>\n",
              "      <th></th>\n",
              "      <th></th>\n",
              "      <th></th>\n",
              "      <th></th>\n",
              "      <th></th>\n",
              "    </tr>\n",
              "  </thead>\n",
              "  <tbody>\n",
              "    <tr>\n",
              "      <th>Avery Bradley</th>\n",
              "      <td>Boston Celtics</td>\n",
              "      <td>0.0</td>\n",
              "      <td>PG</td>\n",
              "      <td>25.0</td>\n",
              "      <td>6-2</td>\n",
              "      <td>Texas</td>\n",
              "      <td>7730337.0</td>\n",
              "    </tr>\n",
              "    <tr>\n",
              "      <th>Jae Crowder</th>\n",
              "      <td>Boston Celtics</td>\n",
              "      <td>99.0</td>\n",
              "      <td>SF</td>\n",
              "      <td>25.0</td>\n",
              "      <td>6-6</td>\n",
              "      <td>Marquette</td>\n",
              "      <td>6796117.0</td>\n",
              "    </tr>\n",
              "    <tr>\n",
              "      <th>John Holland</th>\n",
              "      <td>Boston Celtics</td>\n",
              "      <td>30.0</td>\n",
              "      <td>SG</td>\n",
              "      <td>27.0</td>\n",
              "      <td>6-5</td>\n",
              "      <td>Boston University</td>\n",
              "      <td>NaN</td>\n",
              "    </tr>\n",
              "    <tr>\n",
              "      <th>R.J. Hunter</th>\n",
              "      <td>Boston Celtics</td>\n",
              "      <td>28.0</td>\n",
              "      <td>SG</td>\n",
              "      <td>22.0</td>\n",
              "      <td>6-5</td>\n",
              "      <td>Georgia State</td>\n",
              "      <td>1148640.0</td>\n",
              "    </tr>\n",
              "    <tr>\n",
              "      <th>Jonas Jerebko</th>\n",
              "      <td>Boston Celtics</td>\n",
              "      <td>8.0</td>\n",
              "      <td>PF</td>\n",
              "      <td>29.0</td>\n",
              "      <td>6-10</td>\n",
              "      <td>NaN</td>\n",
              "      <td>5000000.0</td>\n",
              "    </tr>\n",
              "    <tr>\n",
              "      <th>...</th>\n",
              "      <td>...</td>\n",
              "      <td>...</td>\n",
              "      <td>...</td>\n",
              "      <td>...</td>\n",
              "      <td>...</td>\n",
              "      <td>...</td>\n",
              "      <td>...</td>\n",
              "    </tr>\n",
              "    <tr>\n",
              "      <th>Shelvin Mack</th>\n",
              "      <td>Utah Jazz</td>\n",
              "      <td>8.0</td>\n",
              "      <td>PG</td>\n",
              "      <td>26.0</td>\n",
              "      <td>6-3</td>\n",
              "      <td>Butler</td>\n",
              "      <td>2433333.0</td>\n",
              "    </tr>\n",
              "    <tr>\n",
              "      <th>Raul Neto</th>\n",
              "      <td>Utah Jazz</td>\n",
              "      <td>25.0</td>\n",
              "      <td>PG</td>\n",
              "      <td>24.0</td>\n",
              "      <td>6-1</td>\n",
              "      <td>NaN</td>\n",
              "      <td>900000.0</td>\n",
              "    </tr>\n",
              "    <tr>\n",
              "      <th>Tibor Pleiss</th>\n",
              "      <td>Utah Jazz</td>\n",
              "      <td>21.0</td>\n",
              "      <td>C</td>\n",
              "      <td>26.0</td>\n",
              "      <td>7-3</td>\n",
              "      <td>NaN</td>\n",
              "      <td>2900000.0</td>\n",
              "    </tr>\n",
              "    <tr>\n",
              "      <th>Jeff Withey</th>\n",
              "      <td>Utah Jazz</td>\n",
              "      <td>24.0</td>\n",
              "      <td>C</td>\n",
              "      <td>26.0</td>\n",
              "      <td>7-0</td>\n",
              "      <td>Kansas</td>\n",
              "      <td>947276.0</td>\n",
              "    </tr>\n",
              "    <tr>\n",
              "      <th>NaN</th>\n",
              "      <td>NaN</td>\n",
              "      <td>NaN</td>\n",
              "      <td>NaN</td>\n",
              "      <td>NaN</td>\n",
              "      <td>NaN</td>\n",
              "      <td>NaN</td>\n",
              "      <td>NaN</td>\n",
              "    </tr>\n",
              "  </tbody>\n",
              "</table>\n",
              "<p>458 rows × 7 columns</p>\n",
              "</div>"
            ],
            "text/plain": [
              "                         Team  Number  ...            College     Salary\n",
              "Name                                   ...                              \n",
              "Avery Bradley  Boston Celtics     0.0  ...              Texas  7730337.0\n",
              "Jae Crowder    Boston Celtics    99.0  ...          Marquette  6796117.0\n",
              "John Holland   Boston Celtics    30.0  ...  Boston University        NaN\n",
              "R.J. Hunter    Boston Celtics    28.0  ...      Georgia State  1148640.0\n",
              "Jonas Jerebko  Boston Celtics     8.0  ...                NaN  5000000.0\n",
              "...                       ...     ...  ...                ...        ...\n",
              "Shelvin Mack        Utah Jazz     8.0  ...             Butler  2433333.0\n",
              "Raul Neto           Utah Jazz    25.0  ...                NaN   900000.0\n",
              "Tibor Pleiss        Utah Jazz    21.0  ...                NaN  2900000.0\n",
              "Jeff Withey         Utah Jazz    24.0  ...             Kansas   947276.0\n",
              "NaN                       NaN     NaN  ...                NaN        NaN\n",
              "\n",
              "[458 rows x 7 columns]"
            ]
          },
          "metadata": {
            "tags": []
          },
          "execution_count": 3
        }
      ]
    },
    {
      "cell_type": "code",
      "metadata": {
        "id": "iEgdxIlDxdUW",
        "colab": {
          "base_uri": "https://localhost:8080/"
        },
        "outputId": "4544cb25-fa63-457c-c212-0e814ce0bca0"
      },
      "source": [
        "# Example 2: Syntax Errors\n",
        "# We can also remove any syntax error than we find in our records.\n",
        "# Remove white spaces: Extra white spaces at the beginning or the end of a string should be removed. \n",
        "# Pad strings: Strings can be padded with spaces or other characters to a certain width i.e. 313 => 000313 (6 digits). \n",
        "# Let's remove use the str.strip function on the respective column name to strip the leading and trailing space \n",
        "# \n",
        "\n",
        "# Creating the DataFrame to be used\n",
        "df1 = {\n",
        "    'County':['     Nairobi     ', ' Machakos       ', ' Kisumu', 'Nakuru       ', 'Naroko '],\n",
        "   'Score':[73, 83, 75, 84, 61]}\n",
        " \n",
        "df1 = pd.DataFrame(df1,columns=['County','Score'])\n",
        "\n",
        "# Displaying the resulting dataframe\n",
        "df1['County']"
      ],
      "execution_count": 4,
      "outputs": [
        {
          "output_type": "execute_result",
          "data": {
            "text/plain": [
              "0         Nairobi     \n",
              "1      Machakos       \n",
              "2               Kisumu\n",
              "3        Nakuru       \n",
              "4              Naroko \n",
              "Name: County, dtype: object"
            ]
          },
          "metadata": {
            "tags": []
          },
          "execution_count": 4
        }
      ]
    },
    {
      "cell_type": "code",
      "metadata": {
        "id": "ClA86U5UXD1y",
        "colab": {
          "base_uri": "https://localhost:8080/"
        },
        "outputId": "f7da50e0-91cb-4fa1-84ca-096239789179"
      },
      "source": [
        "# Example 2: Syntax Errors\n",
        "# We can use the str.strip function on the respective column name to strip the leading and trailing spaces  \n",
        "\n",
        "df1['County'] = df1['County'].str.strip()\n",
        "\n",
        "# Displaying the resulting dataframe\n",
        "df1['County']"
      ],
      "execution_count": 5,
      "outputs": [
        {
          "output_type": "execute_result",
          "data": {
            "text/plain": [
              "0     Nairobi\n",
              "1    Machakos\n",
              "2      Kisumu\n",
              "3      Nakuru\n",
              "4      Naroko\n",
              "Name: County, dtype: object"
            ]
          },
          "metadata": {
            "tags": []
          },
          "execution_count": 5
        }
      ]
    },
    {
      "cell_type": "code",
      "metadata": {
        "id": "tj_-wOu4WlS2",
        "colab": {
          "base_uri": "https://localhost:8080/",
          "height": 197
        },
        "outputId": "83b0aa9c-72e9-4a4a-c927-8f90888a74d1"
      },
      "source": [
        "# Example 3: Syntax Errors\n",
        "# We can also use str.replace() function on the respective column to strip all the spaces \n",
        "df1['County'] = df1['County'].str.replace(\" \",\"\")\n",
        "\n",
        "# Displaying the resulting dataframe\n",
        "df1"
      ],
      "execution_count": 9,
      "outputs": [
        {
          "output_type": "execute_result",
          "data": {
            "text/html": [
              "<div>\n",
              "<style scoped>\n",
              "    .dataframe tbody tr th:only-of-type {\n",
              "        vertical-align: middle;\n",
              "    }\n",
              "\n",
              "    .dataframe tbody tr th {\n",
              "        vertical-align: top;\n",
              "    }\n",
              "\n",
              "    .dataframe thead th {\n",
              "        text-align: right;\n",
              "    }\n",
              "</style>\n",
              "<table border=\"1\" class=\"dataframe\">\n",
              "  <thead>\n",
              "    <tr style=\"text-align: right;\">\n",
              "      <th></th>\n",
              "      <th>County</th>\n",
              "      <th>Score</th>\n",
              "    </tr>\n",
              "  </thead>\n",
              "  <tbody>\n",
              "    <tr>\n",
              "      <th>0</th>\n",
              "      <td>Nairobi</td>\n",
              "      <td>73</td>\n",
              "    </tr>\n",
              "    <tr>\n",
              "      <th>1</th>\n",
              "      <td>Machakos</td>\n",
              "      <td>83</td>\n",
              "    </tr>\n",
              "    <tr>\n",
              "      <th>2</th>\n",
              "      <td>Kisumu</td>\n",
              "      <td>75</td>\n",
              "    </tr>\n",
              "    <tr>\n",
              "      <th>3</th>\n",
              "      <td>Nakuru</td>\n",
              "      <td>84</td>\n",
              "    </tr>\n",
              "    <tr>\n",
              "      <th>4</th>\n",
              "      <td>Narok</td>\n",
              "      <td>61</td>\n",
              "    </tr>\n",
              "  </tbody>\n",
              "</table>\n",
              "</div>"
            ],
            "text/plain": [
              "     County  Score\n",
              "0   Nairobi     73\n",
              "1  Machakos     83\n",
              "2    Kisumu     75\n",
              "3    Nakuru     84\n",
              "4     Narok     61"
            ]
          },
          "metadata": {
            "tags": []
          },
          "execution_count": 9
        }
      ]
    },
    {
      "cell_type": "code",
      "metadata": {
        "id": "QrOLB6WXUniz",
        "colab": {
          "base_uri": "https://localhost:8080/",
          "height": 197
        },
        "outputId": "b37fa612-8ad8-4e5a-9461-e4cfb7391760"
      },
      "source": [
        "# Example 4: \n",
        "# Fix typos: Strings can be entered in many different ways, and no wonder they can have mistakes.\n",
        "#\n",
        "\n",
        "# If you want to replace certain words - \"Naroko\" with \"Narok\"\n",
        "df1['County'] = df1['County'].str.replace('Naroko', 'Narok')\n",
        "\n",
        "df1 "
      ],
      "execution_count": 7,
      "outputs": [
        {
          "output_type": "execute_result",
          "data": {
            "text/html": [
              "<div>\n",
              "<style scoped>\n",
              "    .dataframe tbody tr th:only-of-type {\n",
              "        vertical-align: middle;\n",
              "    }\n",
              "\n",
              "    .dataframe tbody tr th {\n",
              "        vertical-align: top;\n",
              "    }\n",
              "\n",
              "    .dataframe thead th {\n",
              "        text-align: right;\n",
              "    }\n",
              "</style>\n",
              "<table border=\"1\" class=\"dataframe\">\n",
              "  <thead>\n",
              "    <tr style=\"text-align: right;\">\n",
              "      <th></th>\n",
              "      <th>County</th>\n",
              "      <th>Score</th>\n",
              "    </tr>\n",
              "  </thead>\n",
              "  <tbody>\n",
              "    <tr>\n",
              "      <th>0</th>\n",
              "      <td>Nairobi</td>\n",
              "      <td>73</td>\n",
              "    </tr>\n",
              "    <tr>\n",
              "      <th>1</th>\n",
              "      <td>Machakos</td>\n",
              "      <td>83</td>\n",
              "    </tr>\n",
              "    <tr>\n",
              "      <th>2</th>\n",
              "      <td>Kisumu</td>\n",
              "      <td>75</td>\n",
              "    </tr>\n",
              "    <tr>\n",
              "      <th>3</th>\n",
              "      <td>Nakuru</td>\n",
              "      <td>84</td>\n",
              "    </tr>\n",
              "    <tr>\n",
              "      <th>4</th>\n",
              "      <td>Narok</td>\n",
              "      <td>61</td>\n",
              "    </tr>\n",
              "  </tbody>\n",
              "</table>\n",
              "</div>"
            ],
            "text/plain": [
              "     County  Score\n",
              "0   Nairobi     73\n",
              "1  Machakos     83\n",
              "2    Kisumu     75\n",
              "3    Nakuru     84\n",
              "4     Narok     61"
            ]
          },
          "metadata": {
            "tags": []
          },
          "execution_count": 7
        }
      ]
    },
    {
      "cell_type": "markdown",
      "metadata": {
        "id": "xPMbJS341V-W"
      },
      "source": [
        "In this section, we also handle outliers in our datasets. Examples of challenges of identify and handling outliers can be found in a different session."
      ]
    },
    {
      "cell_type": "markdown",
      "metadata": {
        "id": "zxpZyP9yxlzl"
      },
      "source": [
        "## 1.2 Accuracy"
      ]
    },
    {
      "cell_type": "markdown",
      "metadata": {
        "id": "PQ8DPOj4HGtQ"
      },
      "source": [
        "### <font color=\"green\">1.2 Challenge</font>"
      ]
    },
    {
      "cell_type": "code",
      "metadata": {
        "id": "zLGcCGXDxoKE"
      },
      "source": [
        "# Challenge 1: In-record & cross-datasets errors\n",
        "# These errors result from having two or more values in the same row or across \n",
        "# datasets that contradict with each other. \n",
        "# For example, if we have a dataset about the cost of living in cities. \n",
        "# The total column must be equivalent to the sum of rent, transport, and food. \n",
        "# Similarly, a child can’t be married. An employee’s salary can’t be less than the calculated taxes etc.\n",
        "# Using the given dataset below, determine and fix errors where the total population is not a sum of\n",
        "# total male population and total female population \n",
        "# dataset url = http://bit.ly/MSPopulationDistribution\n",
        "# Hint: Review Pandas Basics \n",
        "# \n",
        "OUR CODE GOES HERE"
      ],
      "execution_count": null,
      "outputs": []
    },
    {
      "cell_type": "markdown",
      "metadata": {
        "id": "vPXKeupMxvT3"
      },
      "source": [
        "## 1.3 Completeness"
      ]
    },
    {
      "cell_type": "code",
      "metadata": {
        "id": "lmS8QbRnxy5m",
        "colab": {
          "base_uri": "https://localhost:8080/"
        },
        "outputId": "481ab7d3-f06b-467a-93e1-7d457fb881e5"
      },
      "source": [
        "# Example 1: Checking/ Counting Missing Values \n",
        "# \n",
        "\n",
        "# Creating a dataframe to work with\n",
        "df1 = {\n",
        "    'Subject':['Humanities', 'Physical Education', 'Home Science', 'Mathematics', 'Physics',\n",
        "               'Chemistry','Arts'],\n",
        "   'Score':[62, 47, np.nan, 74, np.nan, 77, 85]}\n",
        " \n",
        "df1 = pd.DataFrame(df1,columns=['Subject','Score'])\n",
        "\n",
        "print(df1)"
      ],
      "execution_count": 10,
      "outputs": [
        {
          "output_type": "stream",
          "text": [
            "              Subject  Score\n",
            "0          Humanities   62.0\n",
            "1  Physical Education   47.0\n",
            "2        Home Science    NaN\n",
            "3         Mathematics   74.0\n",
            "4             Physics    NaN\n",
            "5           Chemistry   77.0\n",
            "6                Arts   85.0\n"
          ],
          "name": "stdout"
        }
      ]
    },
    {
      "cell_type": "code",
      "metadata": {
        "colab": {
          "base_uri": "https://localhost:8080/"
        },
        "id": "qTqkM7qiMZph",
        "outputId": "484251f0-0fcd-4afd-dfb7-ad4330ea9536"
      },
      "source": [
        "# Checking if there is any missing value across each column\n",
        "# Uncomment the following line after running the previous lines\n",
        "df1.isnull().any()\n"
      ],
      "execution_count": 11,
      "outputs": [
        {
          "output_type": "execute_result",
          "data": {
            "text/plain": [
              "Subject    False\n",
              "Score       True\n",
              "dtype: bool"
            ]
          },
          "metadata": {
            "tags": []
          },
          "execution_count": 11
        }
      ]
    },
    {
      "cell_type": "code",
      "metadata": {
        "colab": {
          "base_uri": "https://localhost:8080/",
          "height": 257
        },
        "id": "7iXFMxXiMXZj",
        "outputId": "4ab0c185-417b-4706-c514-a864a8f7d426"
      },
      "source": [
        "# Checking if there is any missing value in dataframe as a whole\n",
        "# Uncomment the following line after running the previous lines\n",
        "df1.isnull()"
      ],
      "execution_count": 12,
      "outputs": [
        {
          "output_type": "execute_result",
          "data": {
            "text/html": [
              "<div>\n",
              "<style scoped>\n",
              "    .dataframe tbody tr th:only-of-type {\n",
              "        vertical-align: middle;\n",
              "    }\n",
              "\n",
              "    .dataframe tbody tr th {\n",
              "        vertical-align: top;\n",
              "    }\n",
              "\n",
              "    .dataframe thead th {\n",
              "        text-align: right;\n",
              "    }\n",
              "</style>\n",
              "<table border=\"1\" class=\"dataframe\">\n",
              "  <thead>\n",
              "    <tr style=\"text-align: right;\">\n",
              "      <th></th>\n",
              "      <th>Subject</th>\n",
              "      <th>Score</th>\n",
              "    </tr>\n",
              "  </thead>\n",
              "  <tbody>\n",
              "    <tr>\n",
              "      <th>0</th>\n",
              "      <td>False</td>\n",
              "      <td>False</td>\n",
              "    </tr>\n",
              "    <tr>\n",
              "      <th>1</th>\n",
              "      <td>False</td>\n",
              "      <td>False</td>\n",
              "    </tr>\n",
              "    <tr>\n",
              "      <th>2</th>\n",
              "      <td>False</td>\n",
              "      <td>True</td>\n",
              "    </tr>\n",
              "    <tr>\n",
              "      <th>3</th>\n",
              "      <td>False</td>\n",
              "      <td>False</td>\n",
              "    </tr>\n",
              "    <tr>\n",
              "      <th>4</th>\n",
              "      <td>False</td>\n",
              "      <td>True</td>\n",
              "    </tr>\n",
              "    <tr>\n",
              "      <th>5</th>\n",
              "      <td>False</td>\n",
              "      <td>False</td>\n",
              "    </tr>\n",
              "    <tr>\n",
              "      <th>6</th>\n",
              "      <td>False</td>\n",
              "      <td>False</td>\n",
              "    </tr>\n",
              "  </tbody>\n",
              "</table>\n",
              "</div>"
            ],
            "text/plain": [
              "   Subject  Score\n",
              "0    False  False\n",
              "1    False  False\n",
              "2    False   True\n",
              "3    False  False\n",
              "4    False   True\n",
              "5    False  False\n",
              "6    False  False"
            ]
          },
          "metadata": {
            "tags": []
          },
          "execution_count": 12
        }
      ]
    },
    {
      "cell_type": "code",
      "metadata": {
        "colab": {
          "base_uri": "https://localhost:8080/"
        },
        "id": "z91EiQscMbwI",
        "outputId": "82e647ce-b0a8-4ef9-9953-1daaaf02e0d1"
      },
      "source": [
        "# Checking how many missing values there are across each column\n",
        "# Uncomment the following line after running the previous lines\n",
        "df1.isnull().sum()"
      ],
      "execution_count": 13,
      "outputs": [
        {
          "output_type": "execute_result",
          "data": {
            "text/plain": [
              "Subject    0\n",
              "Score      2\n",
              "dtype: int64"
            ]
          },
          "metadata": {
            "tags": []
          },
          "execution_count": 13
        }
      ]
    },
    {
      "cell_type": "code",
      "metadata": {
        "colab": {
          "base_uri": "https://localhost:8080/"
        },
        "id": "OI8vsbmaMeKI",
        "outputId": "3e01291f-a927-4faf-aa74-e520419cbd5d"
      },
      "source": [
        "# Or we can do a quick check to see if we have any missing values at all\n",
        "# Uncomment the following line after running the previous lines\n",
        "print(df1.isnull().values.any())"
      ],
      "execution_count": 16,
      "outputs": [
        {
          "output_type": "stream",
          "text": [
            "True\n"
          ],
          "name": "stdout"
        }
      ]
    },
    {
      "cell_type": "code",
      "metadata": {
        "id": "zGDJy7rYiZOt",
        "colab": {
          "base_uri": "https://localhost:8080/"
        },
        "outputId": "75bf6e0f-7445-4ee6-adaa-f68067286fd2"
      },
      "source": [
        "# Example 2: Dropping Missing Values \n",
        "# If there are only a few null values and you know that deleting values \n",
        "# will not cause adverse effects on your result, \n",
        "# remove them from your DataFrame and store that in a new DataFrame\n",
        "\n",
        "# Droppping all \n",
        "# Uncomment the following 2 lines after running the previous lines\n",
        "clean_df = df1.dropna()\n",
        "print(clean_df)\n"
      ],
      "execution_count": 17,
      "outputs": [
        {
          "output_type": "stream",
          "text": [
            "              Subject  Score\n",
            "0          Humanities   62.0\n",
            "1  Physical Education   47.0\n",
            "3         Mathematics   74.0\n",
            "5           Chemistry   77.0\n",
            "6                Arts   85.0\n"
          ],
          "name": "stdout"
        }
      ]
    },
    {
      "cell_type": "code",
      "metadata": {
        "colab": {
          "base_uri": "https://localhost:8080/"
        },
        "id": "7mTrgAmNMtoY",
        "outputId": "c25be663-a03e-4fe7-b59c-e7db09b77e06"
      },
      "source": [
        "# Verifying that you no longer have any null values by running \n",
        "# Uncomment the following line after running the previous lines\n",
        "print(clean_df.isnull().sum())"
      ],
      "execution_count": 18,
      "outputs": [
        {
          "output_type": "stream",
          "text": [
            "Subject    0\n",
            "Score      0\n",
            "dtype: int64\n"
          ],
          "name": "stdout"
        }
      ]
    },
    {
      "cell_type": "code",
      "metadata": {
        "id": "Vg0NXacDkkb3"
      },
      "source": [
        "# Exmaple 2: Dropping instances/records/rows with NA missing values \n",
        "# \n",
        "\n",
        "# Dropping all rows with any NA values \n",
        "all_rows_any_na = df1.dropna()\n",
        "print(all_rows_any_na)\n",
        "\n",
        "# Dropping all rows that have all NA values\n",
        "# Uncomment the 2 lines below after running the previous lines\n",
        "# all_rows_all_na = df1.dropna(how=\"all\")\n",
        "# print(all_rows_all_na)\n",
        "\n",
        "# We can also put a limitation on how many non-null values need to be in a row \n",
        "# we can retain the data that has at least 2 non-null values as shown below\n",
        "# Uncomment the 2 lines below after running the previous lines\n",
        "# df1_thresh = df1.dropna(thresh=2)\n",
        "# print(df1_thresh)"
      ],
      "execution_count": null,
      "outputs": []
    },
    {
      "cell_type": "code",
      "metadata": {
        "id": "nci4gXJb1u21"
      },
      "source": [
        "# Example 2: Missing Values\n",
        "# Dropping attributes (variables/columns)\n",
        "# We can apply the same kind of criteria to our columns. \n",
        "# We just need to use the parameter axis=1 in our code. \n",
        "# That means to operate on columns, not rows. \n",
        "# (We could have used axis=0 in our row examples, \n",
        "# but it is 0 by default if you don’t enter anything.)\n",
        "# \n",
        "\n",
        "# Dropping all attributes with any NA values\n",
        "# \n",
        "all_cols_any_na = df1.dropna(axis=1)\n",
        "print(all_cols_any_na)\n",
        "\n",
        "# Dropping all attributes that have all NA values\n",
        "# Uncomment the 2 lines below\n",
        "\n",
        "# all_cols_all_na = df1.dropna(axis=1, how=\"all\")\n",
        "# print(all_cols_all_na)\n",
        "\n",
        "# We can also put a limitation on how many non-null values need to be in a attributes \n",
        "# we can retain the data that has at least 2 non-null values as shown below\n",
        "# Uncomment the 2 lines below\n",
        "# df1_thresh = df1.dropna(thresh=2)\n",
        "# print(df1_thresh)"
      ],
      "execution_count": null,
      "outputs": []
    },
    {
      "cell_type": "code",
      "metadata": {
        "id": "UHD7y5ti10Am"
      },
      "source": [
        "# Example 3: Missing Values\n",
        "# Imputing the attribute mean for all missing values\n",
        "# Mean imputation replaces missing values with the mean value of that feature/variable. \n",
        "# Mean imputation is one of the most ‘naive’ imputation methods \n",
        "# because unlike more complex methods like k-nearest neighbors imputation, \n",
        "# it does not use the information we have about an observation to estimate a value for it.\n",
        "\n",
        "# Creating a dataframe to work with\n",
        "subjects_df_mean = {\n",
        "    'Subject':['Humanities', 'Physical Education', 'Home Science', 'Mathematics', 'Physics',\n",
        "               'Chemistry','Arts'],\n",
        "   'Score':[62, 47, np.nan, 74, np.nan, 77, 85]}\n",
        "subjects_df_mean = pd.DataFrame(subjects_df_mean,columns=['Subject','Score'])\n",
        "\n",
        "# printing our dataframe\n",
        "print(subjects_df_mean)\n",
        "\n",
        "# imputing the mean \n",
        "subjects_df_mean['Score'] = subjects_df_mean['Score'].fillna((subjects_df_mean['Score'].mean()))\n",
        "\n",
        "# printing out our updated dataframe\n",
        "print(subjects_df_mean) \n"
      ],
      "execution_count": null,
      "outputs": []
    },
    {
      "cell_type": "code",
      "metadata": {
        "id": "Xk9aj32K15B1"
      },
      "source": [
        "# Example 4: Missing Values\n",
        "# Imputing the attribute median for all missing values\n",
        "# \n",
        "\n",
        "# Creating a dataframe to work with\n",
        "subjects_df_median = {\n",
        "    'Subject':['Humanities', 'Physical Education', 'Home Science', 'Mathematics', 'Physics',\n",
        "               'Chemistry','Arts'],\n",
        "   'Score':[62, 47, np.nan, 74, np.nan, 77, 85]}\n",
        "subjects_df_median = pd.DataFrame(subjects_df_median,columns=['Subject','Score'])\n",
        "\n",
        "# printing our dataframe\n",
        "print(subjects_df_median)\n",
        "\n",
        "# imputing the median \n",
        "subjects_df_median['Score'] = subjects_df_median['Score'].fillna((subjects_df_median['Score'].median()))\n",
        "\n",
        "# printing out our updated dataframe\n",
        "print(subjects_df_median) "
      ],
      "execution_count": null,
      "outputs": []
    },
    {
      "cell_type": "code",
      "metadata": {
        "id": "Fiz_Fl_u1_oh"
      },
      "source": [
        "# Example 5: Missing Values \n",
        "# Imputing the attribute mode for all missing values\n",
        "# \n",
        "# Creating a dataframe to work with\n",
        "subjects_df_mode = {\n",
        "    'Subject':['Humanities', 'Physical Education', 'Home Science', 'Mathematics', 'Physics',\n",
        "               'Chemistry','Arts'],\n",
        "   'Score':[62, 47, np.nan, 74, np.nan, 77, 85]}\n",
        "subjects_df_mode = pd.DataFrame(subjects_df_mode,columns=['Subject','Score'])\n",
        "\n",
        "# printing our dataframe\n",
        "print(subjects_df_mode)\n",
        "\n",
        "# imputing the mode \n",
        "subjects_df_mode['Score'] = subjects_df_mode['Score'].fillna((subjects_df_mode['Score'].mode()))\n",
        "\n",
        "# printing out our updated dataframe\n",
        "print(subjects_df_mode) "
      ],
      "execution_count": null,
      "outputs": []
    },
    {
      "cell_type": "code",
      "metadata": {
        "id": "uEpXn0qbP-Fd"
      },
      "source": [
        "# Example 6: Missing Values \n",
        "# Or maybe we just want to fill in missing values with a single value as shown below\n",
        "# \n",
        "\n",
        "df1 = {\n",
        "    'Subject':['Humanities', 'Physical Education', 'Home Science', 'Mathematics', 'Physics',\n",
        "               'Chemistry','Arts'],\n",
        "   'Score':[62, 47, np.nan, 74, np.nan, 77, 85]}\n",
        " \n",
        "df1 = pd.DataFrame(df1,columns=['Subject','Score'])\n",
        "\n",
        "# Replace missing values with a number\n",
        "df1['Score'].fillna(60, inplace=True)\n",
        "\n",
        "print(df1)"
      ],
      "execution_count": null,
      "outputs": []
    },
    {
      "cell_type": "code",
      "metadata": {
        "id": "JDIwtGtHSb48"
      },
      "source": [
        "# Example 7: Missing Values\n",
        "# Using the following property dataset, we will make a list of missing value types\n",
        "# then load our dataset below\n",
        "# \n",
        "\n",
        "# reading our dataset\n",
        "property_dataset = pd.read_csv(\"http://bit.ly/MS-PropertyDataset\")\n",
        "property_dataset\n",
        "\n",
        "# Now making a list of missing value types found in our dataset\n",
        "# Uncommenting the 3 lines below after running the previous lines\n",
        "# missing_values = [\"n/a\", \"na\", \"--\"]\n",
        "# property_dataset = pd.read_csv(\"http://bit.ly/MS-PropertyDataset\", na_values = missing_values)\n",
        "# property_dataset"
      ],
      "execution_count": null,
      "outputs": []
    },
    {
      "cell_type": "markdown",
      "metadata": {
        "id": "KSSnxqGcH4pc"
      },
      "source": [
        "### <font color=\"green\">1.3 Challenges</font>"
      ]
    },
    {
      "cell_type": "code",
      "metadata": {
        "id": "YIeuI-bXH9ZX"
      },
      "source": [
        "# Challenge 1\n",
        "# Clean the following dataset that contains missing values\n",
        "# url = http://bit.ly/DSRussianInvestigation\n",
        "# \n",
        "OUR CODE GOES HERE"
      ],
      "execution_count": null,
      "outputs": []
    },
    {
      "cell_type": "code",
      "metadata": {
        "id": "eErv30zQH-gS"
      },
      "source": [
        "# Challenge 2\n",
        "# Examine and clean the avengers dataset\n",
        "# http://bit.ly/MSAvengers\n",
        "# \n",
        "OUR CODE GOES HERE"
      ],
      "execution_count": null,
      "outputs": []
    },
    {
      "cell_type": "code",
      "metadata": {
        "id": "RMR09nkWH_vH"
      },
      "source": [
        "# Challenge 3\n",
        "# Clean the dataset where 16 multiple choice ability items were taken from the Synthetic Aperture Personality Assessment (SAPA)\n",
        "# web based personality assessment project. The data from 1525 subjects are included as a demonstration \n",
        "# set for scoring multiple choice inventories and doing basic item statistics.\n",
        "# dataset url = http://bit.ly/MSIQQuestions\n",
        "#\n",
        "OUR CODE GOES HERE"
      ],
      "execution_count": null,
      "outputs": []
    },
    {
      "cell_type": "code",
      "metadata": {
        "id": "cxSSVFTGRbrq"
      },
      "source": [
        "# Challenge 4\n",
        "# The dataset below contains data from an experiment conducted by the Department of Biology \n",
        "# at Kenyon College at a site near the campus in Gambier, Ohio. A student and faculty volunteers \n",
        "# planted 1000 white pine (Pinus strobes) seedlings at the Brown Family Environmental Center. \n",
        "# These seedlings were planted in two grids, distinguished by 10- and 15-foot spacings between the seedlings. \n",
        "# Several variables were measured and recorded for each seedling over time (in 1990, 1996, and 1997).\n",
        "# Handle the missing values of this dataset; dataset url = http://bit.ly/MSPines\n",
        "# \n",
        "# Features Description\n",
        "# Row\tRow number in pine plantation\n",
        "# Col\tColumn number in pine plantation\n",
        "# Hgt90\tTree height at time of planting (cm)\n",
        "# Hgt96\tTree height in September 1996 (cm)\n",
        "# Diam96\tTree trunk diameter in September 1996 (cm)\n",
        "# Grow96\tLeader growth during 1996 (cm)\n",
        "# Hgt97\tTree height in September 1997 (cm)\n",
        "# Diam97\tTree trunk diameter in September 1997 (cm)\n",
        "# Spread97\tWidest lateral spread in September 1997 (cm)\n",
        "# Needles97\tNeedle length in September 1997 (mm)\n",
        "# Deer95\tType of deer damage in September 1995: 0 = none, 1 = browsed\n",
        "# Deer97\tType of deer damage in September 1997: 0 = none, 1 = browsed\n",
        "# Cover95\tThorny cover in September 1995: 0 = none; 1 = some; 2 = moderate; 3 = lots\n",
        "# Fert\tIndicator for fertilizer: 0 = no, 1 = yes\n",
        "# Spacing\tDistance (in feet) between trees (10 or 15)\n",
        "#\n",
        "OUR CODE GOES HERE"
      ],
      "execution_count": null,
      "outputs": []
    },
    {
      "cell_type": "code",
      "metadata": {
        "id": "12QcGkaPUEVN"
      },
      "source": [
        "# Challenge 5\n",
        "# Some geologists were interested in the water chemistry of rivers in Coastal New York. \n",
        "# They took water samples at three different locations in four rivers. \n",
        "# The sampling sites were chosen to investigate how the composition of the water changes \n",
        "# as it flows from the source to the mouth of each river. \n",
        "# The sampling sites were labeled as upstream, midstream, and downstream. \n",
        "# This dataset contains the concentrations (parts per million) of a variety of elements in those water samples. \n",
        "# The dataset RiverIron contains the information for iron (FE) alone, along with the log of the concentration.\n",
        "# Handle the missing values found in this dataset; dataset url = http://bit.ly/MSRiverSamples\n",
        "\n",
        "# Features Description\n",
        "# River\tOne of four rivers: Grasse, Oswegatchie, Raquette, or St. Regis\n",
        "# Site\tLocation: 1=UpStream, 2=MidStream, 3=Downstream\n",
        "# Al\tAluminum\n",
        "# Ba\tBarium\n",
        "# Br\tBromine\n",
        "# Ca\tCalcium\n",
        "# Ce\tCerium\n",
        "# Cu\tCopper\n",
        "# Dy\tDysprosium\n",
        "# Er\tErbim\n",
        "# Fe\tIron\n",
        "# Gd\tGadolinium\n",
        "# Ho\tHolmum\n",
        "# K\tPotassium\n",
        "# La\tLathanum\n",
        "# Li\tLithium\n",
        "# Mg\tMagnesium\n",
        "# Mn\tManganese\n",
        "# Nd\tNeodymium\n",
        "# Pr\tProseyodymium\n",
        "# Rb\tRubidium\n",
        "# Si\tSilicon\n",
        "# Sr\tStrontium\n",
        "# Y\tYttrium\n",
        "# Yb\tYtterbium\n",
        "# Zn\tZinc\n",
        "# Zr\tZirconium\n",
        "#\n",
        "OUR CODE GOES HERE"
      ],
      "execution_count": null,
      "outputs": []
    },
    {
      "cell_type": "markdown",
      "metadata": {
        "id": "Wus-RyPhx2k2"
      },
      "source": [
        "## 1.4 Consistency"
      ]
    },
    {
      "cell_type": "code",
      "metadata": {
        "id": "EhBEUGcTx78K",
        "colab": {
          "base_uri": "https://localhost:8080/"
        },
        "outputId": "8f1cc894-fa31-4afa-8167-c5028d51e14f"
      },
      "source": [
        "# Example 1: Duplicates\n",
        "# Duplicates are data points that are repeated in your dataset. \n",
        "# These should be simply removed.\n",
        "#\n",
        "\n",
        "raw_data = {'first_name': ['Jamila', 'Jamila', 'Jane','Joma', 'Ulia', 'Dorcas'], \n",
        "        'last_name': ['Mohammed', 'Mohammed', 'Milner','Tech', 'Shevchenko', 'Wanjiru'], \n",
        "        'age': [52, 52, 43, 77, 25, 19], \n",
        "        'pre_assessment': [5, 5, 5, 43, 5, 2],\n",
        "        'post_assessment': [35, 35, 25, 57, 72, 71]}\n",
        "df_duplicate = pd.DataFrame(raw_data, columns = ['first_name', 'last_name', 'age', 'pre_assessment', 'post_assessment'])\n",
        "#print(df_duplicate)\n",
        "\n",
        "\n",
        "# Identifying which observations are duplicates\n",
        "df_non_duplicates = df_duplicate.drop_duplicates()\n",
        "\n",
        "# Let's see these non-duplicate files\n",
        "print(df_non_duplicates)"
      ],
      "execution_count": 19,
      "outputs": [
        {
          "output_type": "stream",
          "text": [
            "  first_name   last_name  age  pre_assessment  post_assessment\n",
            "0     Jamila    Mohammed   52               5               35\n",
            "2       Jane      Milner   43               5               25\n",
            "3       Joma        Tech   77              43               57\n",
            "4       Ulia  Shevchenko   25               5               72\n",
            "5     Dorcas     Wanjiru   19               2               71\n"
          ],
          "name": "stdout"
        }
      ]
    },
    {
      "cell_type": "code",
      "metadata": {
        "id": "f-dm1qjp5o2u"
      },
      "source": [
        ""
      ],
      "execution_count": null,
      "outputs": []
    },
    {
      "cell_type": "code",
      "metadata": {
        "id": "grvCd8d0XuCC"
      },
      "source": [
        "# Challenge  1\n",
        "# Identify and handle the duplicted records found in the following dataset\n",
        "# dataset url = http://bit.ly/MoviesDataset1\n",
        "# \n",
        "OUR CODE GOES HERE"
      ],
      "execution_count": null,
      "outputs": []
    },
    {
      "cell_type": "code",
      "metadata": {
        "id": "MQ0BKjhPXyhP"
      },
      "source": [
        "# Clean the following dataset \n",
        "# dataset url = http://bit.ly/EmployeesDataset\n",
        "# \n",
        "OUR CODE GOES HERE"
      ],
      "execution_count": null,
      "outputs": []
    },
    {
      "cell_type": "markdown",
      "metadata": {
        "id": "o59W2bFhx_8k"
      },
      "source": [
        "## 1.5 Uniformity"
      ]
    },
    {
      "cell_type": "code",
      "metadata": {
        "id": "EnpBH69HTLWe"
      },
      "source": [
        "# Example 1: Standardization - Renaming column names\n",
        "# We can rename multiple  data frame column names in the following manner\n",
        "# \n",
        "\n",
        "# Create an example dataframe\n",
        "#\n",
        "officials_data = {'Moderator': ['Wanjiku', 'Muthoni', 'Kagure', 'Muema', 'Kariuki'], \n",
        "        'Date': ['2015-02-11', '2013-02-22', '2015-02-11', '2014-02-11', '2011-02-11'], \n",
        "        'Score': [14, 34, 41, 12, 13]}\n",
        "officials_data = pd.DataFrame(officials_data)\n",
        "print(officials_data)\n",
        "\n",
        "# Renaming the column names\n",
        "#\n",
        "officials_data.columns = ['Senior Leader', 'Time', 'Score']\n",
        "print(officials_data)"
      ],
      "execution_count": null,
      "outputs": []
    },
    {
      "cell_type": "code",
      "metadata": {
        "id": "_wOLNaUFUy72"
      },
      "source": [
        "# Example 2: Standardization - Fixing messy column names\n",
        "# Sometimes you might have column names which are uppercase, with spaces, \n",
        "# and whitespace all around. How do we fix this? \n",
        "# We use the .str method that we use on text data. \n",
        "# Ideally, we chain a bunch of .str functions as shown below; \n",
        "# \n",
        "\n",
        "# we use strip(), lower() and replace() functions\n",
        "# \n",
        "officials_data.columns = officials_data.columns.str.strip().str.lower().str.replace(' ', '_').str.replace('(', '').str.replace(')', '')\n",
        "print(officials_data)\n"
      ],
      "execution_count": null,
      "outputs": []
    },
    {
      "cell_type": "code",
      "metadata": {
        "id": "npCCbSYHyLJu"
      },
      "source": [
        "# Example 3: Date Type Conversion\n",
        "# Make sure numbers are stored as numerical data types. \n",
        "# A date should be stored as a date object, or a Unix timestamp (number of seconds), and so on. \n",
        "# Making the respecive conversion is advised.\n",
        "# \n",
        "\n",
        "# Let's convert our strings to Datetime data type\n",
        "# importing datatime module\n",
        "from datetime import datetime\n",
        "\n",
        "# Creating our data frame\n",
        "data = {'date': ['2015-05-01 18:47:05.069722', '2015-05-01 18:47:05.119994', \n",
        "                 '2015-05-02 18:47:05.178768', '2015-05-02 18:47:05.230071', \n",
        "                 '2015-05-02 18:47:05.230071', '2015-05-02 18:47:05.280592', \n",
        "                 '2015-05-03 18:47:05.332662', '2015-05-03 18:47:05.385109', \n",
        "                 '2015-05-04 18:47:05.436523', '2015-05-04 18:47:05.486877'], \n",
        "        'value': [1, 2, 4, 5, 6, 3, 2, 1, 15, 11]}\n",
        "df = pd.DataFrame(data, columns = ['date', 'value'])\n",
        "\n",
        "# printing our dataframe\n",
        "print(df.info())\n",
        "\n",
        "# Converting date column from string to datetime\n",
        "df['date'] = pd.to_datetime(df['date']) \n",
        "\n",
        "# printing our updated dataframe\n",
        "print(df.info())"
      ],
      "execution_count": null,
      "outputs": []
    },
    {
      "cell_type": "code",
      "metadata": {
        "id": "6vJvDVMWKanz"
      },
      "source": [
        "# Example 4: Data Type conversion\n",
        "# Sometimes, especially when we’re reading in a CSV with a bunch of numbers, \n",
        "# some of the numbers will read in as strings instead of numeric values, or vice versa. \n",
        "# Let's fix the release year to be a string and not a number;\n",
        "# In pandas, the datatype string appears as object\n",
        "# \n",
        "\n",
        "# First let's see how our datatypes appear while loading the dataset\n",
        "data = pd.read_csv('http://bit.ly/MovieMetaData')\n",
        "print(data.info())\n",
        "\n",
        "# Now let's specify that our 'duration column needs to be an integer value'\n",
        "# Uncomment the lines below after running the previous lines\n",
        "# data = pd.read_csv('http://bit.ly/MovieMetaData', dtype={'title_year': str})\n",
        "# print(data.dtypes)"
      ],
      "execution_count": null,
      "outputs": []
    },
    {
      "cell_type": "code",
      "metadata": {
        "id": "awCjhzV1amoK"
      },
      "source": [
        "# Challenge 1\n",
        "# Rename and fix the columns names of the following dataset\n",
        "# url = http://bit.ly/MSPropertyDataset\n",
        "# Columns = Street number, Street name, Owner Occupied, No. of Bedrooms\n",
        "# \n",
        "OUR CODE GOES HERE"
      ],
      "execution_count": null,
      "outputs": []
    },
    {
      "cell_type": "code",
      "metadata": {
        "id": "HvBMDobHdH9v"
      },
      "source": [
        "# Challenge 2\n",
        "# Convert the following dataframe column Data from string to datetime format\n",
        "# \n",
        "\n",
        "schedule_df = pd.DataFrame({'Date':['23/9/2011', '11/4/2010', '10/12/2019'], \n",
        "                'Event':['Music', 'Drama', 'Arts'], \n",
        "                'Cost':[17000, 55000, 25000]}) \n",
        "\n",
        "OUR CODE GOES HERE"
      ],
      "execution_count": null,
      "outputs": []
    },
    {
      "cell_type": "code",
      "metadata": {
        "id": "wOVxciRxQRHU"
      },
      "source": [
        "# Challenge 3\n",
        "# Work on converting the following data types from the given sales dataset\n",
        "# url = http://bit.ly/SalesDataset\n",
        "# - The Customer Number is a float64 but it should be an int64\n",
        "# - The 2016 and 2017 columns are stored as objects, not numerical values such as a float64 or int64\n",
        "# - Percent Growth and Jan Units are also stored as objects not numerical values\n",
        "# - Month, Day and Year columns that should be converted to datetime64\n",
        "# - Active column should be a boolean\n",
        "# We cannot work with this dataset until we clean up normalize the datatypes \n",
        "# A good example of this would be if we were to perform the following operation \n",
        "#\n",
        "\n",
        "# Loading our sales dataset\n",
        "sales_df = pd.read_csv(\"http://bit.ly/SalesDataset\")\n",
        "\n",
        "# and then perform some operation reveals a problem\n",
        "sales_df['2016'] + sales_df['2017'] \n",
        "\n",
        "# Performing our conversion below\n",
        "OUR CODE GOES HERE"
      ],
      "execution_count": null,
      "outputs": []
    }
  ]
}